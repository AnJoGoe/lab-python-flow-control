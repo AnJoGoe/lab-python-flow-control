{
 "cells": [
  {
   "cell_type": "markdown",
   "id": "d3bfc191-8885-42ee-b0a0-bbab867c6f9f",
   "metadata": {
    "tags": []
   },
   "source": [
    "# Lab | Flow Control"
   ]
  },
  {
   "cell_type": "markdown",
   "id": "3851fcd1-cf98-4653-9c89-e003b7ec9400",
   "metadata": {},
   "source": [
    "## Exercise: Managing Customer Orders Optimized\n",
    "\n",
    "In the last lab, you were starting an online store that sells various products. To ensure smooth operations, you developed a program that manages customer orders and inventory.\n",
    "\n",
    "You did so without using flow control. Let's go a step further and improve this code.\n",
    "\n",
    "Follow the steps below to complete the exercise:\n",
    "\n",
    "1. Look at your code from the lab data structures, and improve repeated code with loops.\n",
    "\n",
    "2. Instead of asking the user to input the name of three products that a customer wants to order, do the following:\n",
    "    \n",
    "    a. Prompt the user to enter the name of a product that a customer wants to order.\n",
    "    \n",
    "    b. Add the product name to the \"customer_orders\" set.\n",
    "    \n",
    "    c. Ask the user if they want to add another product (yes/no).\n",
    "    \n",
    "    d. Continue the loop until the user does not want to add another product.\n",
    "\n",
    "3. Instead of updating the inventory by subtracting 1 from the quantity of each product, only do it for  the products that were ordered (those in \"customer_orders\")."
   ]
  },
  {
   "cell_type": "code",
   "execution_count": 53,
   "id": "cac0bc4a",
   "metadata": {
    "colab": {
     "base_uri": "https://localhost:8080/"
    },
    "executionInfo": {
     "elapsed": 16087,
     "status": "ok",
     "timestamp": 1708450258057,
     "user": {
      "displayName": "anjohan.goe",
      "userId": "08310255006761632691"
     },
     "user_tz": -60
    },
    "id": "o2TMSmb9HPAI",
    "outputId": "5057dc4d-596b-4c2f-9942-d427362348d1"
   },
   "outputs": [
    {
     "name": "stdout",
     "output_type": "stream",
     "text": [
      "Add the quantity for product t-shirt: 4\n",
      "Add the quantity for product mug: 2\n",
      "Add the quantity for product hat: 0\n",
      "Add the quantity for product book: 5\n",
      "Add the quantity for product keychain: 6\n",
      "{'t-shirt': 4, 'mug': 2, 'hat': 0, 'book': 5, 'keychain': 6}\n",
      "Total products available: 17\n"
     ]
    }
   ],
   "source": [
    "#Define a list called products that contains the following items: \"t-shirt\", \"mug\", \"hat\", \"book\", \"keychain\".\n",
    "#Create an empty dictionary called inventory.\n",
    "#Ask the user to input the quantity of each product available in the inventory. Use the product names from the products list as keys in the inventory dictionary and assign the respective quantities as values.\n",
    "\n",
    "products = [\"t-shirt\", \"mug\", \"hat\", \"book\", \"keychain\"]\n",
    "inventory = {}\n",
    "\n",
    "for prod in products:\n",
    "  while True:\n",
    "    try:\n",
    "      quantity = abs(int(input(f\"Add the quantity for product {prod}: \")))\n",
    "      inventory[prod] = quantity\n",
    "      break\n",
    "\n",
    "    except: print(\"This is not a valid input value! Please enter an integer!\")\n",
    "73\n",
    "\n",
    "total_available_products = sum(inventory.values())\n",
    "print(inventory)\n",
    "print(f\"Total products available: {total_available_products}\")"
   ]
  },
  {
   "cell_type": "code",
   "execution_count": 54,
   "id": "cc906555",
   "metadata": {
    "colab": {
     "base_uri": "https://localhost:8080/"
    },
    "executionInfo": {
     "elapsed": 18163,
     "status": "ok",
     "timestamp": 1708450278690,
     "user": {
      "displayName": "anjohan.goe",
      "userId": "08310255006761632691"
     },
     "user_tz": -60
    },
    "id": "pjrj2EUxKzEM",
    "outputId": "09b36818-6749-4840-c1a1-f715d12aa897"
   },
   "outputs": [
    {
     "name": "stdout",
     "output_type": "stream",
     "text": [
      "Add product 1 to shopping card: hat\n",
      "Selected product is not available!\n",
      "Add product 1 to shopping card: mug\n",
      "Do you want to add another purchase (yes/no): \n",
      "Add product 2 to shopping card: mug\n",
      "Do you want to add another purchase (yes/no): \n",
      "Add product 3 to shopping card: mug\n",
      "Selected product is not available!\n",
      "Add product 3 to shopping card: \n",
      "Selected product is not available!\n",
      "Add product 3 to shopping card: hat\n",
      "Selected product is not available!\n",
      "Add product 3 to shopping card: t-shirt\n",
      "Do you want to add another purchase (yes/no): \n",
      "Add product 4 to shopping card: book\n",
      "Do you want to add another purchase (yes/no): \n",
      "Add product 5 to shopping card: keychain\n",
      "Do you want to add another purchase (yes/no): no\n",
      "The customer ordered the 2 piece(s) of product mug\n",
      "The customer ordered the 1 piece(s) of product t-shirt\n",
      "The customer ordered the 1 piece(s) of product book\n",
      "The customer ordered the 1 piece(s) of product keychain\n",
      "\n",
      "\n",
      "The updated inventory contains 3 piece(s) of product t-shirt\n",
      "The updated inventory contains 0 piece(s) of product mug\n",
      "The updated inventory contains 0 piece(s) of product hat\n",
      "The updated inventory contains 4 piece(s) of product book\n",
      "The updated inventory contains 5 piece(s) of product keychain\n"
     ]
    }
   ],
   "source": [
    "# Create an empty set called customer_orders. --> Why set -> user can select item only ones? --> Create Dictionary\n",
    "#Prompt the user to enter the name of a product that a customer wants to order.\n",
    "#Add the product name to the \"customer_orders\" set.\n",
    "#Ask the user if they want to add another product (yes/no).\n",
    "\n",
    "customer_orders = {}\n",
    "\n",
    "basket =  [key for key in inventory if inventory[key] != 0]\n",
    "#print(basket)\n",
    "\n",
    "\n",
    "user_decision = \"yes\"\n",
    "\n",
    "prod_no = 1\n",
    "\n",
    "while user_decision == \"yes\":\n",
    "    \n",
    "    while (purchase := input(f\"Add product {prod_no} to shopping card: \").lower()) not in basket:\n",
    "        print(\"Selected product is not available!\")\n",
    "    \n",
    "    if customer_orders.get(purchase, 'Not found') == 'Not found':\n",
    "        customer_orders[purchase] = 1\n",
    "        #print(customer_orders)\n",
    "    else:\n",
    "        customer_orders[purchase] += 1\n",
    "    \n",
    "    inventory[purchase] -= 1\n",
    "    basket = [key for key in inventory if inventory[key] != 0]\n",
    "    \n",
    "    while (user_decision := input(\"Do you want to add another purchase (yes/no): \") or \"yes\").lower() not in [\"yes\", \"no\"]:\n",
    "        print(\"Please select Yes or No!\")\n",
    "    \n",
    "    \n",
    "    prod_no += 1\n",
    "    #customer_orders.add(purchase)\n",
    "    \n",
    "print(\"\\n\")\n",
    "for key, value in customer_orders.items():\n",
    "    print(f\"The customer ordered the {value} piece(s) of product {key}\")\n",
    "\n",
    "print(\"\\n\")\n",
    "for key, value in inventory.items():\n",
    "    print(f\"The updated inventory contains {value} piece(s) of product {key}\")\n"
   ]
  },
  {
   "cell_type": "code",
   "execution_count": 55,
   "id": "e9ed0304",
   "metadata": {
    "colab": {
     "base_uri": "https://localhost:8080/"
    },
    "executionInfo": {
     "elapsed": 254,
     "status": "ok",
     "timestamp": 1708450283962,
     "user": {
      "displayName": "anjohan.goe",
      "userId": "08310255006761632691"
     },
     "user_tz": -60
    },
    "id": "DbZ54TIJOwZ_",
    "outputId": "f12ebe9c-2efc-4459-a51c-53d531eb6a43"
   },
   "outputs": [
    {
     "name": "stdout",
     "output_type": "stream",
     "text": [
      "Order Statistics:\n",
      "Total Products ordered 5\n",
      "Percentage of Products Ordered: 29.41% \n"
     ]
    }
   ],
   "source": [
    "\"\"\"\n",
    "Calculate the following order statistics:\n",
    "  Total Products Ordered: The total number of products in the customer_orders set. \n",
    "  Percentage of Products Ordered: The percentage of products ordered compared to the total available products.\n",
    "Store these statistics in a tuple called order_status.\n",
    "\n",
    "Print the order statistics using the following format:\n",
    "\n",
    "Order Statistics:\n",
    "Total Products Ordered: <total_products_ordered>\n",
    "Percentage of Products Ordered: <percentage_ordered>%\n",
    "\n",
    "\"\"\"\n",
    "\n",
    "total_products_ordered = sum(customer_orders.values())\n",
    " \n",
    "\n",
    "percentage_ordered = round((total_products_ordered/total_available_products)*100, 2)\n",
    "\n",
    "print(\"Order Statistics:\")\n",
    "print(f\"Total Products ordered {total_products_ordered}\")\n",
    "print(f\"Percentage of Products Ordered: {percentage_ordered}% \")"
   ]
  },
  {
   "cell_type": "code",
   "execution_count": null,
   "id": "fdc31c11",
   "metadata": {},
   "outputs": [],
   "source": []
  }
 ],
 "metadata": {
  "kernelspec": {
   "display_name": "Python 3 (ipykernel)",
   "language": "python",
   "name": "python3"
  },
  "language_info": {
   "codemirror_mode": {
    "name": "ipython",
    "version": 3
   },
   "file_extension": ".py",
   "mimetype": "text/x-python",
   "name": "python",
   "nbconvert_exporter": "python",
   "pygments_lexer": "ipython3",
   "version": "3.11.5"
  }
 },
 "nbformat": 4,
 "nbformat_minor": 5
}
